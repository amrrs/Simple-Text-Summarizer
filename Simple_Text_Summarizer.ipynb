{
 "cells": [
  {
   "cell_type": "code",
   "execution_count": 18,
   "metadata": {
    "collapsed": true
   },
   "outputs": [],
   "source": [
    "from textblob import TextBlob\n",
    "from sklearn.feature_extraction.text import TfidfVectorizer\n",
    "import numpy as np"
   ]
  },
  {
   "cell_type": "code",
   "execution_count": 24,
   "metadata": {
    "collapsed": true
   },
   "outputs": [],
   "source": [
    "def summarize(text, n):\n",
    "    \n",
    "    blob = TextBlob(text)\n",
    "\n",
    "    # create tf-idf matrix\n",
    "    vec = TfidfVectorizer(stop_words='english')\n",
    "    tfidf_vec = vec.fit_transform((str(x) for x in blob.sentences))\n",
    "        \n",
    "    ranking = list()\n",
    "    for i, c in enumerate(tfidf_vec):\n",
    "        ranking.append((i, c.sum()))\n",
    "        \n",
    "    top_sentences = sorted(ranking, key=lambda x: x[1], reverse=True)\n",
    "    summary = top_sentences[:n]\n",
    "    summary = sorted(summary)\n",
    "    \n",
    "    result = TextBlob('')\n",
    "    for i in summary:\n",
    "        result += blob.sentences[i[0]]\n",
    "    return result"
   ]
  },
  {
   "cell_type": "code",
   "execution_count": 25,
   "metadata": {
    "collapsed": false
   },
   "outputs": [
    {
     "name": "stdout",
     "output_type": "stream",
     "text": [
      "It was the sort of place where,\n",
      "if invited to stay to supper...\n",
      "you might, uh...\n",
      "be allowed to have\n",
      "your conversation with Stephen...\n",
      "but the rest of the family\n",
      "would be sitting...\n",
      "at the table reading a book...\n",
      "a behavior which was not really\n",
      "approved of in my circle...\n",
      "but which was tolerated\n",
      "from the Hawkings...\n",
      "because they were\n",
      "recognized to be...\n",
      "very eccentric,\n",
      "highly intelligent...\n",
      "very clever people...\n",
      "but still a bit odd.\n"
     ]
    }
   ],
   "source": [
    "with open('a brief history of time.txt') as f:\n",
    "    story = f.read()\n",
    "    \n",
    "print summarize(story, 1)"
   ]
  },
  {
   "cell_type": "code",
   "execution_count": null,
   "metadata": {
    "collapsed": true
   },
   "outputs": [],
   "source": []
  }
 ],
 "metadata": {
  "kernelspec": {
   "display_name": "Python [conda env:Anaconda2]",
   "language": "python",
   "name": "conda-env-Anaconda2-py"
  },
  "language_info": {
   "codemirror_mode": {
    "name": "ipython",
    "version": 2
   },
   "file_extension": ".py",
   "mimetype": "text/x-python",
   "name": "python",
   "nbconvert_exporter": "python",
   "pygments_lexer": "ipython2",
   "version": "2.7.12"
  }
 },
 "nbformat": 4,
 "nbformat_minor": 1
}
